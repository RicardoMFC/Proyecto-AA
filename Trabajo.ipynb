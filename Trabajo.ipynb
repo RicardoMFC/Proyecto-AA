{
 "cells": [
  {
   "cell_type": "code",
   "execution_count": null,
   "id": "2f535de8",
   "metadata": {},
   "outputs": [
    {
     "ename": "",
     "evalue": "",
     "output_type": "error",
     "traceback": [
      "\u001b[1;31mLa ejecución de celdas con 'Python 3.13.3' requiere el paquete ipykernel.\n",
      "\u001b[1;31mInstale \"ipykernel\" en el entorno de Python. \n",
      "\u001b[1;31mComando: \"/opt/homebrew/bin/python3 -m pip install ipykernel -U --user --force-reinstall\""
     ]
    }
   ],
   "source": [
    "# Celdas para leer directamente un archivo .arff en Python\n",
    "\n",
    "# 1. Importar librerías necesarias\n",
    "import pandas as pd\n",
    "from scipy.io import arff\n",
    "# Removed incorrect import of load_arff\n",
    "from pathlib import Path\n",
    "from sklearn.preprocessing import LabelEncoder"
   ]
  },
  {
   "cell_type": "code",
   "execution_count": null,
   "id": "796b0d68",
   "metadata": {},
   "outputs": [],
   "source": [
    "# 2. Definir la ruta al archivo .arff\n",
    "darff_path = Path('Sapfile1.arff')  # <-- Ajusta si está en otra carpeta\n",
    "\n",
    "# 3. Leer el .arff usando scipy\n",
    "#    Devuelve una tupla (data, meta)\n",
    "data_scipy, meta_scipy = arff.loadarff(str(darff_path))\n",
    "# Convertir a DataFrame\n",
    "df_scipy = pd.DataFrame(data_scipy)\n",
    "# Decodificar columnas byte a texto si es necesario\n",
    "for col in df_scipy.select_dtypes([object]):\n",
    "    df_scipy[col] = df_scipy[col].str.decode('utf-8')\n",
    "print(\"Primeras filas con scipy:\")\n",
    "print(df_scipy.head())\n",
    "\n",
    "# Removed scikit-learn related code as load_arff is not available\n",
    "\n",
    "# Opcional: mostrar información general\n",
    "def resumen(df):\n",
    "    print(df.info())\n",
    "    print(df.describe())\n",
    "\n",
    "# resumen(df_scipy)\n"
   ]
  },
  {
   "cell_type": "code",
   "execution_count": null,
   "id": "b3743767",
   "metadata": {},
   "outputs": [],
   "source": [
    "# Verificar cantidad de filas (instancias)\n",
    "print(\"Número de instancias:\", df_scipy.shape[0])\n",
    "\n",
    "# Verificar valores nulos reales (NaN)\n",
    "print(\"\\nValores nulos por columna:\")\n",
    "print(df_scipy.isnull().sum())\n",
    "\n",
    "# Buscar valores '?' como posibles datos faltantes\n",
    "print(\"\\nValores '?' por columna:\")\n",
    "for col in df_scipy.columns:\n",
    "    if df_scipy[col].dtype == object:\n",
    "        print(f\"{col}: {(df_scipy[col] == '?').sum()}\")\n"
   ]
  },
  {
   "cell_type": "code",
   "execution_count": null,
   "id": "541d2061",
   "metadata": {},
   "outputs": [],
   "source": [
    "print(\"Tipos de datos del DataFrame:\")\n",
    "print(df_scipy.dtypes)\n"
   ]
  },
  {
   "cell_type": "markdown",
   "id": "28cddb1e",
   "metadata": {},
   "source": []
  },
  {
   "cell_type": "code",
   "execution_count": null,
   "id": "6fd10919",
   "metadata": {},
   "outputs": [],
   "source": [
    "# Análisis de la variable objetivo\n",
    "print(\"Valores únicos en 'atd':\")\n",
    "print(df_scipy['atd'].value_counts())\n"
   ]
  },
  {
   "cell_type": "code",
   "execution_count": null,
   "id": "16a4d277",
   "metadata": {},
   "outputs": [],
   "source": [
    "# Llevar la columna 'atd' al final\n",
    "target = 'atd'\n",
    "df_scipy = df_scipy[[col for col in df_scipy.columns if col != target] + [target]]\n",
    "\n",
    "# Crear copia para no tocar el original directamente\n",
    "df_encoded = df_scipy.copy()\n",
    "\n",
    "# Aplicar LabelEncoder a todas las columnas (incluyendo el target)\n",
    "label_encoders = {}\n",
    "for col in df_encoded.columns:\n",
    "    le = LabelEncoder()\n",
    "    df_encoded[col] = le.fit_transform(df_encoded[col])\n",
    "    label_encoders[col] = le  # guardar por si luego se necesita invertir\n",
    "\n",
    "# Mostrar las primeras filas codificadas\n",
    "df_encoded.head()"
   ]
  }
 ],
 "metadata": {
  "kernelspec": {
   "display_name": "Python 3",
   "language": "python",
   "name": "python3"
  },
  "language_info": {
   "codemirror_mode": {
    "name": "ipython",
    "version": 3
   },
   "file_extension": ".py",
   "mimetype": "text/x-python",
   "name": "python",
   "nbconvert_exporter": "python",
   "pygments_lexer": "ipython3",
   "version": "3.13.3"
  }
 },
 "nbformat": 4,
 "nbformat_minor": 5
}
