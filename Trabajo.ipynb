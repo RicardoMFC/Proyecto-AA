{
 "cells": [
  {
   "cell_type": "code",
   "execution_count": 17,
   "id": "796b0d68",
   "metadata": {},
   "outputs": [
    {
     "name": "stdout",
     "output_type": "stream",
     "text": [
      "Primeras filas con scipy:\n",
      "  ge   cst   tnp   twp iap   esp arr         ms ls    as  ...  fq  mq  \\\n",
      "0  F     G  Good  Good  Vg  Good   Y  Unmarried  V  Paid  ...  Um  10   \n",
      "1  M   OBC    Vg    Vg  Vg    Vg   N  Unmarried  V  Paid  ...  Um  Il   \n",
      "2  F   OBC  Good  Good  Vg  Good   N  Unmarried  V  Paid  ...  12  10   \n",
      "3  M  MOBC  Pass  Good  Vg  Good   N  Unmarried  V  Paid  ...  12  Um   \n",
      "4  M     G  Good  Good  Vg    Vg   N  Unmarried  V  Paid  ...  10  12   \n",
      "\n",
      "         fo         mo       nf       sh       ss   me       tt      atd  \n",
      "0    Farmer  Housewife    Large     Poor     Govt  Asm    Small     Good  \n",
      "1   Service    Service    Small     Poor     Govt  Asm  Average  Average  \n",
      "2   Service  Housewife  Average  Average     Govt  Asm    Large     Good  \n",
      "3  Business   Business    Large     Poor     Govt  Asm  Average  Average  \n",
      "4   Service  Housewife    Large     Poor  Private  Asm    Small     Good  \n",
      "\n",
      "[5 rows x 22 columns]\n"
     ]
    }
   ],
   "source": [
    "# Celdas para leer directamente un archivo .arff en Python\n",
    "\n",
    "# 1. Importar librerías necesarias\n",
    "import pandas as pd\n",
    "from scipy.io import arff\n",
    "# Removed incorrect import of load_arff\n",
    "from pathlib import Path\n",
    "\n",
    "# 2. Definir la ruta al archivo .arff\n",
    "darff_path = Path('Sapfile1.arff')  # <-- Ajusta si está en otra carpeta\n",
    "\n",
    "# 3. Leer el .arff usando scipy\n",
    "#    Devuelve una tupla (data, meta)\n",
    "data_scipy, meta_scipy = arff.loadarff(str(darff_path))\n",
    "# Convertir a DataFrame\n",
    "df_scipy = pd.DataFrame(data_scipy)\n",
    "# Decodificar columnas byte a texto si es necesario\n",
    "for col in df_scipy.select_dtypes([object]):\n",
    "    df_scipy[col] = df_scipy[col].str.decode('utf-8')\n",
    "print(\"Primeras filas con scipy:\")\n",
    "print(df_scipy.head())\n",
    "\n",
    "# Removed scikit-learn related code as load_arff is not available\n",
    "\n",
    "# Opcional: mostrar información general\n",
    "def resumen(df):\n",
    "    print(df.info())\n",
    "    print(df.describe())\n",
    "\n",
    "# resumen(df_scipy)\n"
   ]
  },
  {
   "cell_type": "code",
   "execution_count": null,
   "id": "a0ac5717",
   "metadata": {},
   "outputs": [],
   "source": []
  },
  {
   "cell_type": "code",
   "execution_count": null,
   "id": "b3743767",
   "metadata": {},
   "outputs": [],
   "source": [
    "\n"
   ]
  }
 ],
 "metadata": {
  "kernelspec": {
   "display_name": "Python 3",
   "language": "python",
   "name": "python3"
  },
  "language_info": {
   "codemirror_mode": {
    "name": "ipython",
    "version": 3
   },
   "file_extension": ".py",
   "mimetype": "text/x-python",
   "name": "python",
   "nbconvert_exporter": "python",
   "pygments_lexer": "ipython3",
   "version": "3.13.2"
  }
 },
 "nbformat": 4,
 "nbformat_minor": 5
}
