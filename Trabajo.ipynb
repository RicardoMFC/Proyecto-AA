{
 "cells": [
  {
   "cell_type": "code",
<<<<<<< HEAD
   "execution_count": 7,
=======
   "execution_count": 1,
>>>>>>> 0a0415ef16df10dd7d31383047e6bf064cd48ae7
   "id": "2f535de8",
   "metadata": {},
   "outputs": [],
   "source": [
    "# Celdas para leer directamente un archivo .arff en Python\n",
    "\n",
    "# 1. Importar librerías necesarias\n",
    "import pandas as pd\n",
    "from scipy.io import arff\n",
    "# Removed incorrect import of load_arff\n",
    "from pathlib import Path\n",
    "from sklearn.preprocessing import LabelEncoder"
   ]
  },
  {
   "cell_type": "code",
<<<<<<< HEAD
   "execution_count": 8,
=======
   "execution_count": 2,
>>>>>>> 0a0415ef16df10dd7d31383047e6bf064cd48ae7
   "id": "796b0d68",
   "metadata": {},
   "outputs": [
    {
     "name": "stdout",
     "output_type": "stream",
     "text": [
      "Primeras filas con scipy:\n",
      "  ge   cst   tnp   twp iap   esp arr         ms ls    as  ...  fq  mq  \\\n",
      "0  F     G  Good  Good  Vg  Good   Y  Unmarried  V  Paid  ...  Um  10   \n",
      "1  M   OBC    Vg    Vg  Vg    Vg   N  Unmarried  V  Paid  ...  Um  Il   \n",
      "2  F   OBC  Good  Good  Vg  Good   N  Unmarried  V  Paid  ...  12  10   \n",
      "3  M  MOBC  Pass  Good  Vg  Good   N  Unmarried  V  Paid  ...  12  Um   \n",
      "4  M     G  Good  Good  Vg    Vg   N  Unmarried  V  Paid  ...  10  12   \n",
      "\n",
      "         fo         mo       nf       sh       ss   me       tt      atd  \n",
      "0    Farmer  Housewife    Large     Poor     Govt  Asm    Small     Good  \n",
      "1   Service    Service    Small     Poor     Govt  Asm  Average  Average  \n",
      "2   Service  Housewife  Average  Average     Govt  Asm    Large     Good  \n",
      "3  Business   Business    Large     Poor     Govt  Asm  Average  Average  \n",
      "4   Service  Housewife    Large     Poor  Private  Asm    Small     Good  \n",
      "\n",
      "[5 rows x 22 columns]\n"
     ]
    }
   ],
   "source": [
    "# 2. Definir la ruta al archivo .arff\n",
    "darff_path = Path('Sapfile1.arff')  # <-- Ajusta si está en otra carpeta\n",
    "\n",
    "# 3. Leer el .arff usando scipy\n",
    "#    Devuelve una tupla (data, meta)\n",
    "data_scipy, meta_scipy = arff.loadarff(str(darff_path))\n",
    "# Convertir a DataFrame\n",
    "df_scipy = pd.DataFrame(data_scipy)\n",
    "# Decodificar columnas byte a texto si es necesario\n",
    "for col in df_scipy.select_dtypes([object]):\n",
    "    df_scipy[col] = df_scipy[col].str.decode('utf-8')\n",
    "print(\"Primeras filas con scipy:\")\n",
    "print(df_scipy.head())\n",
    "\n",
    "# Removed scikit-learn related code as load_arff is not available\n",
    "\n",
    "# Opcional: mostrar información general\n",
    "def resumen(df):\n",
    "    print(df.info())\n",
    "    print(df.describe())\n",
    "\n",
    "# resumen(df_scipy)\n"
   ]
  },
  {
   "cell_type": "code",
<<<<<<< HEAD
   "execution_count": 9,
=======
   "execution_count": 3,
>>>>>>> 0a0415ef16df10dd7d31383047e6bf064cd48ae7
   "id": "b3743767",
   "metadata": {},
   "outputs": [
    {
     "name": "stdout",
     "output_type": "stream",
     "text": [
      "Número de instancias: 131\n",
      "\n",
      "Valores nulos por columna:\n",
      "ge     0\n",
      "cst    0\n",
      "tnp    0\n",
      "twp    0\n",
      "iap    0\n",
      "esp    0\n",
      "arr    0\n",
      "ms     0\n",
      "ls     0\n",
      "as     0\n",
      "fmi    0\n",
      "fs     0\n",
      "fq     0\n",
      "mq     0\n",
      "fo     0\n",
      "mo     0\n",
      "nf     0\n",
      "sh     0\n",
      "ss     0\n",
      "me     0\n",
      "tt     0\n",
      "atd    0\n",
      "dtype: int64\n",
      "\n",
      "Valores '?' por columna:\n",
      "ge: 0\n",
      "cst: 0\n",
      "tnp: 0\n",
      "twp: 0\n",
      "iap: 0\n",
      "esp: 0\n",
      "arr: 0\n",
      "ms: 0\n",
      "ls: 0\n",
      "as: 0\n",
      "fmi: 0\n",
      "fs: 0\n",
      "fq: 0\n",
      "mq: 0\n",
      "fo: 0\n",
      "mo: 0\n",
      "nf: 0\n",
      "sh: 0\n",
      "ss: 0\n",
      "me: 0\n",
      "tt: 0\n",
      "atd: 0\n"
     ]
    }
   ],
   "source": [
    "# Verificar cantidad de filas (instancias)\n",
    "print(\"Número de instancias:\", df_scipy.shape[0])\n",
    "\n",
    "# Verificar valores nulos reales (NaN)\n",
    "print(\"\\nValores nulos por columna:\")\n",
    "print(df_scipy.isnull().sum())\n",
    "\n",
    "# Buscar valores '?' como posibles datos faltantes\n",
    "print(\"\\nValores '?' por columna:\")\n",
    "for col in df_scipy.columns:\n",
    "    if df_scipy[col].dtype == object:\n",
    "        print(f\"{col}: {(df_scipy[col] == '?').sum()}\")\n"
   ]
  },
  {
   "cell_type": "code",
<<<<<<< HEAD
   "execution_count": 10,
=======
   "execution_count": 4,
>>>>>>> 0a0415ef16df10dd7d31383047e6bf064cd48ae7
   "id": "541d2061",
   "metadata": {},
   "outputs": [
    {
     "name": "stdout",
     "output_type": "stream",
     "text": [
      "Tipos de datos del DataFrame:\n",
      "ge     object\n",
      "cst    object\n",
      "tnp    object\n",
      "twp    object\n",
      "iap    object\n",
      "esp    object\n",
      "arr    object\n",
      "ms     object\n",
      "ls     object\n",
      "as     object\n",
      "fmi    object\n",
      "fs     object\n",
      "fq     object\n",
      "mq     object\n",
      "fo     object\n",
      "mo     object\n",
      "nf     object\n",
      "sh     object\n",
      "ss     object\n",
      "me     object\n",
      "tt     object\n",
      "atd    object\n",
      "dtype: object\n"
     ]
    }
   ],
   "source": [
    "print(\"Tipos de datos del DataFrame:\")\n",
    "print(df_scipy.dtypes)\n"
   ]
  },
  {
   "cell_type": "markdown",
   "id": "28cddb1e",
   "metadata": {},
   "source": []
  },
  {
   "cell_type": "code",
<<<<<<< HEAD
   "execution_count": 11,
=======
   "execution_count": 5,
>>>>>>> 0a0415ef16df10dd7d31383047e6bf064cd48ae7
   "id": "6fd10919",
   "metadata": {},
   "outputs": [
    {
     "name": "stdout",
     "output_type": "stream",
     "text": [
      "Valores únicos en 'atd':\n",
      "atd\n",
      "Good       56\n",
      "Average    47\n",
      "Poor       28\n",
      "Name: count, dtype: int64\n"
     ]
    }
   ],
   "source": [
    "# Análisis de la variable objetivo\n",
    "print(\"Valores únicos en 'atd':\")\n",
    "print(df_scipy['atd'].value_counts())\n"
   ]
  },
  {
   "cell_type": "code",
<<<<<<< HEAD
   "execution_count": 12,
=======
   "execution_count": 6,
>>>>>>> 0a0415ef16df10dd7d31383047e6bf064cd48ae7
   "id": "16a4d277",
   "metadata": {},
   "outputs": [
    {
     "data": {
      "application/vnd.microsoft.datawrangler.viewer.v0+json": {
       "columns": [
        {
         "name": "index",
         "rawType": "int64",
         "type": "integer"
        },
        {
         "name": "ge",
         "rawType": "int64",
         "type": "integer"
        },
        {
         "name": "cst",
         "rawType": "int64",
         "type": "integer"
        },
        {
         "name": "tnp",
         "rawType": "int64",
         "type": "integer"
        },
        {
         "name": "twp",
         "rawType": "int64",
         "type": "integer"
        },
        {
         "name": "iap",
         "rawType": "int64",
         "type": "integer"
        },
        {
         "name": "esp",
         "rawType": "int64",
         "type": "integer"
        },
        {
         "name": "arr",
         "rawType": "int64",
         "type": "integer"
        },
        {
         "name": "ms",
         "rawType": "int64",
         "type": "integer"
        },
        {
         "name": "ls",
         "rawType": "int64",
         "type": "integer"
        },
        {
         "name": "as",
         "rawType": "int64",
         "type": "integer"
        },
        {
         "name": "fmi",
         "rawType": "int64",
         "type": "integer"
        },
        {
         "name": "fs",
         "rawType": "int64",
         "type": "integer"
        },
        {
         "name": "fq",
         "rawType": "int64",
         "type": "integer"
        },
        {
         "name": "mq",
         "rawType": "int64",
         "type": "integer"
        },
        {
         "name": "fo",
         "rawType": "int64",
         "type": "integer"
        },
        {
         "name": "mo",
         "rawType": "int64",
         "type": "integer"
        },
        {
         "name": "nf",
         "rawType": "int64",
         "type": "integer"
        },
        {
         "name": "sh",
         "rawType": "int64",
         "type": "integer"
        },
        {
         "name": "ss",
         "rawType": "int64",
         "type": "integer"
        },
        {
         "name": "me",
         "rawType": "int64",
         "type": "integer"
        },
        {
         "name": "tt",
         "rawType": "int64",
         "type": "integer"
        },
        {
         "name": "atd",
         "rawType": "int64",
         "type": "integer"
        }
       ],
       "conversionMethod": "pd.DataFrame",
       "ref": "7235ef0a-37c2-4889-b347-a0050d8e91db",
       "rows": [
        [
         "0",
         "0",
         "0",
         "1",
         "1",
         "3",
         "1",
         "1",
         "0",
         "1",
         "1",
         "3",
         "0",
         "5",
         "0",
         "1",
         "1",
         "1",
         "2",
         "0",
         "0",
         "2",
         "1"
        ],
        [
         "1",
         "1",
         "2",
         "3",
         "3",
         "3",
         "3",
         "0",
         "0",
         "1",
         "1",
         "2",
         "0",
         "5",
         "3",
         "4",
         "4",
         "2",
         "2",
         "0",
         "0",
         "0",
         "0"
        ],
        [
         "2",
         "0",
         "2",
         "1",
         "1",
         "3",
         "1",
         "0",
         "0",
         "1",
         "1",
         "0",
         "0",
         "1",
         "0",
         "4",
         "1",
         "0",
         "0",
         "0",
         "0",
         "1",
         "1"
        ],
        [
         "3",
         "1",
         "1",
         "2",
         "1",
         "3",
         "1",
         "0",
         "0",
         "1",
         "1",
         "3",
         "2",
         "1",
         "5",
         "0",
         "0",
         "1",
         "2",
         "0",
         "0",
         "0",
         "0"
        ],
        [
         "4",
         "1",
         "0",
         "1",
         "1",
         "3",
         "3",
         "0",
         "0",
         "1",
         "1",
         "0",
         "0",
         "0",
         "1",
         "4",
         "1",
         "1",
         "2",
         "1",
         "0",
         "2",
         "1"
        ]
       ],
       "shape": {
        "columns": 22,
        "rows": 5
       }
      },
      "text/html": [
       "<div>\n",
       "<style scoped>\n",
       "    .dataframe tbody tr th:only-of-type {\n",
       "        vertical-align: middle;\n",
       "    }\n",
       "\n",
       "    .dataframe tbody tr th {\n",
       "        vertical-align: top;\n",
       "    }\n",
       "\n",
       "    .dataframe thead th {\n",
       "        text-align: right;\n",
       "    }\n",
       "</style>\n",
       "<table border=\"1\" class=\"dataframe\">\n",
       "  <thead>\n",
       "    <tr style=\"text-align: right;\">\n",
       "      <th></th>\n",
       "      <th>ge</th>\n",
       "      <th>cst</th>\n",
       "      <th>tnp</th>\n",
       "      <th>twp</th>\n",
       "      <th>iap</th>\n",
       "      <th>esp</th>\n",
       "      <th>arr</th>\n",
       "      <th>ms</th>\n",
       "      <th>ls</th>\n",
       "      <th>as</th>\n",
       "      <th>...</th>\n",
       "      <th>fq</th>\n",
       "      <th>mq</th>\n",
       "      <th>fo</th>\n",
       "      <th>mo</th>\n",
       "      <th>nf</th>\n",
       "      <th>sh</th>\n",
       "      <th>ss</th>\n",
       "      <th>me</th>\n",
       "      <th>tt</th>\n",
       "      <th>atd</th>\n",
       "    </tr>\n",
       "  </thead>\n",
       "  <tbody>\n",
       "    <tr>\n",
       "      <th>0</th>\n",
       "      <td>0</td>\n",
       "      <td>0</td>\n",
       "      <td>1</td>\n",
       "      <td>1</td>\n",
       "      <td>3</td>\n",
       "      <td>1</td>\n",
       "      <td>1</td>\n",
       "      <td>0</td>\n",
       "      <td>1</td>\n",
       "      <td>1</td>\n",
       "      <td>...</td>\n",
       "      <td>5</td>\n",
       "      <td>0</td>\n",
       "      <td>1</td>\n",
       "      <td>1</td>\n",
       "      <td>1</td>\n",
       "      <td>2</td>\n",
       "      <td>0</td>\n",
       "      <td>0</td>\n",
       "      <td>2</td>\n",
       "      <td>1</td>\n",
       "    </tr>\n",
       "    <tr>\n",
       "      <th>1</th>\n",
       "      <td>1</td>\n",
       "      <td>2</td>\n",
       "      <td>3</td>\n",
       "      <td>3</td>\n",
       "      <td>3</td>\n",
       "      <td>3</td>\n",
       "      <td>0</td>\n",
       "      <td>0</td>\n",
       "      <td>1</td>\n",
       "      <td>1</td>\n",
       "      <td>...</td>\n",
       "      <td>5</td>\n",
       "      <td>3</td>\n",
       "      <td>4</td>\n",
       "      <td>4</td>\n",
       "      <td>2</td>\n",
       "      <td>2</td>\n",
       "      <td>0</td>\n",
       "      <td>0</td>\n",
       "      <td>0</td>\n",
       "      <td>0</td>\n",
       "    </tr>\n",
       "    <tr>\n",
       "      <th>2</th>\n",
       "      <td>0</td>\n",
       "      <td>2</td>\n",
       "      <td>1</td>\n",
       "      <td>1</td>\n",
       "      <td>3</td>\n",
       "      <td>1</td>\n",
       "      <td>0</td>\n",
       "      <td>0</td>\n",
       "      <td>1</td>\n",
       "      <td>1</td>\n",
       "      <td>...</td>\n",
       "      <td>1</td>\n",
       "      <td>0</td>\n",
       "      <td>4</td>\n",
       "      <td>1</td>\n",
       "      <td>0</td>\n",
       "      <td>0</td>\n",
       "      <td>0</td>\n",
       "      <td>0</td>\n",
       "      <td>1</td>\n",
       "      <td>1</td>\n",
       "    </tr>\n",
       "    <tr>\n",
       "      <th>3</th>\n",
       "      <td>1</td>\n",
       "      <td>1</td>\n",
       "      <td>2</td>\n",
       "      <td>1</td>\n",
       "      <td>3</td>\n",
       "      <td>1</td>\n",
       "      <td>0</td>\n",
       "      <td>0</td>\n",
       "      <td>1</td>\n",
       "      <td>1</td>\n",
       "      <td>...</td>\n",
       "      <td>1</td>\n",
       "      <td>5</td>\n",
       "      <td>0</td>\n",
       "      <td>0</td>\n",
       "      <td>1</td>\n",
       "      <td>2</td>\n",
       "      <td>0</td>\n",
       "      <td>0</td>\n",
       "      <td>0</td>\n",
       "      <td>0</td>\n",
       "    </tr>\n",
       "    <tr>\n",
       "      <th>4</th>\n",
       "      <td>1</td>\n",
       "      <td>0</td>\n",
       "      <td>1</td>\n",
       "      <td>1</td>\n",
       "      <td>3</td>\n",
       "      <td>3</td>\n",
       "      <td>0</td>\n",
       "      <td>0</td>\n",
       "      <td>1</td>\n",
       "      <td>1</td>\n",
       "      <td>...</td>\n",
       "      <td>0</td>\n",
       "      <td>1</td>\n",
       "      <td>4</td>\n",
       "      <td>1</td>\n",
       "      <td>1</td>\n",
       "      <td>2</td>\n",
       "      <td>1</td>\n",
       "      <td>0</td>\n",
       "      <td>2</td>\n",
       "      <td>1</td>\n",
       "    </tr>\n",
       "  </tbody>\n",
       "</table>\n",
       "<p>5 rows × 22 columns</p>\n",
       "</div>"
      ],
      "text/plain": [
       "   ge  cst  tnp  twp  iap  esp  arr  ms  ls  as  ...  fq  mq  fo  mo  nf  sh  \\\n",
       "0   0    0    1    1    3    1    1   0   1   1  ...   5   0   1   1   1   2   \n",
       "1   1    2    3    3    3    3    0   0   1   1  ...   5   3   4   4   2   2   \n",
       "2   0    2    1    1    3    1    0   0   1   1  ...   1   0   4   1   0   0   \n",
       "3   1    1    2    1    3    1    0   0   1   1  ...   1   5   0   0   1   2   \n",
       "4   1    0    1    1    3    3    0   0   1   1  ...   0   1   4   1   1   2   \n",
       "\n",
       "   ss  me  tt  atd  \n",
       "0   0   0   2    1  \n",
       "1   0   0   0    0  \n",
       "2   0   0   1    1  \n",
       "3   0   0   0    0  \n",
       "4   1   0   2    1  \n",
       "\n",
       "[5 rows x 22 columns]"
      ]
     },
<<<<<<< HEAD
     "execution_count": 12,
=======
     "execution_count": 6,
>>>>>>> 0a0415ef16df10dd7d31383047e6bf064cd48ae7
     "metadata": {},
     "output_type": "execute_result"
    }
   ],
   "source": [
    "# Llevar la columna 'atd' al final\n",
    "target = 'atd'\n",
    "df_scipy = df_scipy[[col for col in df_scipy.columns if col != target] + [target]]\n",
    "\n",
    "# Crear copia para no tocar el original directamente\n",
    "df_encoded = df_scipy.copy()\n",
    "\n",
    "# Aplicar LabelEncoder a todas las columnas (incluyendo el target)\n",
    "label_encoders = {}\n",
    "for col in df_encoded.columns:\n",
    "    le = LabelEncoder()\n",
    "    df_encoded[col] = le.fit_transform(df_encoded[col])\n",
    "    label_encoders[col] = le  # guardar por si luego se necesita invertir\n",
    "\n",
    "# Mostrar las primeras filas codificadas\n",
    "df_encoded.head()"
   ]
  },
  {
   "cell_type": "code",
   "execution_count": 17,
   "id": "b08b5421",
   "metadata": {},
   "outputs": [
    {
     "data": {
      "application/vnd.microsoft.datawrangler.viewer.v0+json": {
       "columns": [
        {
         "name": "index",
         "rawType": "object",
         "type": "string"
        },
        {
         "name": "ge",
         "rawType": "object",
         "type": "unknown"
        },
        {
         "name": "cst",
         "rawType": "object",
         "type": "unknown"
        },
        {
         "name": "tnp",
         "rawType": "object",
         "type": "unknown"
        },
        {
         "name": "twp",
         "rawType": "object",
         "type": "unknown"
        },
        {
         "name": "iap",
         "rawType": "object",
         "type": "unknown"
        },
        {
         "name": "esp",
         "rawType": "object",
         "type": "unknown"
        },
        {
         "name": "arr",
         "rawType": "object",
         "type": "unknown"
        },
        {
         "name": "ms",
         "rawType": "object",
         "type": "unknown"
        },
        {
         "name": "ls",
         "rawType": "object",
         "type": "unknown"
        },
        {
         "name": "as",
         "rawType": "object",
         "type": "unknown"
        },
        {
         "name": "fmi",
         "rawType": "object",
         "type": "unknown"
        },
        {
         "name": "fs",
         "rawType": "object",
         "type": "unknown"
        },
        {
         "name": "fq",
         "rawType": "object",
         "type": "unknown"
        },
        {
         "name": "mq",
         "rawType": "object",
         "type": "unknown"
        },
        {
         "name": "fo",
         "rawType": "object",
         "type": "unknown"
        },
        {
         "name": "mo",
         "rawType": "object",
         "type": "unknown"
        },
        {
         "name": "nf",
         "rawType": "object",
         "type": "unknown"
        },
        {
         "name": "sh",
         "rawType": "object",
         "type": "unknown"
        },
        {
         "name": "ss",
         "rawType": "object",
         "type": "unknown"
        },
        {
         "name": "me",
         "rawType": "object",
         "type": "unknown"
        },
        {
         "name": "tt",
         "rawType": "object",
         "type": "unknown"
        },
        {
         "name": "atd",
         "rawType": "object",
         "type": "unknown"
        }
       ],
       "conversionMethod": "pd.DataFrame",
       "ref": "d7d50502-8950-4266-8bf5-46f5c07f16a0",
       "rows": [
        [
         "count",
         "131",
         "131",
         "131",
         "131",
         "131",
         "131",
         "131",
         "131",
         "131",
         "131",
         "131",
         "131",
         "131",
         "131",
         "131",
         "131",
         "131",
         "131",
         "131",
         "131",
         "131",
         "131"
        ],
        [
         "unique",
         "2",
         "5",
         "4",
         "4",
         "4",
         "4",
         "2",
         "1",
         "2",
         "2",
         "5",
         "3",
         "6",
         "6",
         "5",
         "5",
         "3",
         "3",
         "2",
         "4",
         "3",
         "3"
        ],
        [
         "top",
         "M",
         "OBC",
         "Good",
         "Good",
         "Vg",
         "Good",
         "N",
         "Unmarried",
         "V",
         "Paid",
         "Medium",
         "Small",
         "Um",
         "Um",
         "Service",
         "Housewife",
         "Large",
         "Average",
         "Govt",
         "Eng",
         "Small",
         "Good"
        ],
        [
         "freq",
         "72",
         "57",
         "59",
         "65",
         "63",
         "54",
         "78",
         "131",
         "92",
         "76",
         "63",
         "89",
         "40",
         "52",
         "38",
         "115",
         "58",
         "59",
         "91",
         "62",
         "78",
         "56"
        ]
       ],
       "shape": {
        "columns": 22,
        "rows": 4
       }
      },
      "text/html": [
       "<div>\n",
       "<style scoped>\n",
       "    .dataframe tbody tr th:only-of-type {\n",
       "        vertical-align: middle;\n",
       "    }\n",
       "\n",
       "    .dataframe tbody tr th {\n",
       "        vertical-align: top;\n",
       "    }\n",
       "\n",
       "    .dataframe thead th {\n",
       "        text-align: right;\n",
       "    }\n",
       "</style>\n",
       "<table border=\"1\" class=\"dataframe\">\n",
       "  <thead>\n",
       "    <tr style=\"text-align: right;\">\n",
       "      <th></th>\n",
       "      <th>ge</th>\n",
       "      <th>cst</th>\n",
       "      <th>tnp</th>\n",
       "      <th>twp</th>\n",
       "      <th>iap</th>\n",
       "      <th>esp</th>\n",
       "      <th>arr</th>\n",
       "      <th>ms</th>\n",
       "      <th>ls</th>\n",
       "      <th>as</th>\n",
       "      <th>...</th>\n",
       "      <th>fq</th>\n",
       "      <th>mq</th>\n",
       "      <th>fo</th>\n",
       "      <th>mo</th>\n",
       "      <th>nf</th>\n",
       "      <th>sh</th>\n",
       "      <th>ss</th>\n",
       "      <th>me</th>\n",
       "      <th>tt</th>\n",
       "      <th>atd</th>\n",
       "    </tr>\n",
       "  </thead>\n",
       "  <tbody>\n",
       "    <tr>\n",
       "      <th>count</th>\n",
       "      <td>131</td>\n",
       "      <td>131</td>\n",
       "      <td>131</td>\n",
       "      <td>131</td>\n",
       "      <td>131</td>\n",
       "      <td>131</td>\n",
       "      <td>131</td>\n",
       "      <td>131</td>\n",
       "      <td>131</td>\n",
       "      <td>131</td>\n",
       "      <td>...</td>\n",
       "      <td>131</td>\n",
       "      <td>131</td>\n",
       "      <td>131</td>\n",
       "      <td>131</td>\n",
       "      <td>131</td>\n",
       "      <td>131</td>\n",
       "      <td>131</td>\n",
       "      <td>131</td>\n",
       "      <td>131</td>\n",
       "      <td>131</td>\n",
       "    </tr>\n",
       "    <tr>\n",
       "      <th>unique</th>\n",
       "      <td>2</td>\n",
       "      <td>5</td>\n",
       "      <td>4</td>\n",
       "      <td>4</td>\n",
       "      <td>4</td>\n",
       "      <td>4</td>\n",
       "      <td>2</td>\n",
       "      <td>1</td>\n",
       "      <td>2</td>\n",
       "      <td>2</td>\n",
       "      <td>...</td>\n",
       "      <td>6</td>\n",
       "      <td>6</td>\n",
       "      <td>5</td>\n",
       "      <td>5</td>\n",
       "      <td>3</td>\n",
       "      <td>3</td>\n",
       "      <td>2</td>\n",
       "      <td>4</td>\n",
       "      <td>3</td>\n",
       "      <td>3</td>\n",
       "    </tr>\n",
       "    <tr>\n",
       "      <th>top</th>\n",
       "      <td>M</td>\n",
       "      <td>OBC</td>\n",
       "      <td>Good</td>\n",
       "      <td>Good</td>\n",
       "      <td>Vg</td>\n",
       "      <td>Good</td>\n",
       "      <td>N</td>\n",
       "      <td>Unmarried</td>\n",
       "      <td>V</td>\n",
       "      <td>Paid</td>\n",
       "      <td>...</td>\n",
       "      <td>Um</td>\n",
       "      <td>Um</td>\n",
       "      <td>Service</td>\n",
       "      <td>Housewife</td>\n",
       "      <td>Large</td>\n",
       "      <td>Average</td>\n",
       "      <td>Govt</td>\n",
       "      <td>Eng</td>\n",
       "      <td>Small</td>\n",
       "      <td>Good</td>\n",
       "    </tr>\n",
       "    <tr>\n",
       "      <th>freq</th>\n",
       "      <td>72</td>\n",
       "      <td>57</td>\n",
       "      <td>59</td>\n",
       "      <td>65</td>\n",
       "      <td>63</td>\n",
       "      <td>54</td>\n",
       "      <td>78</td>\n",
       "      <td>131</td>\n",
       "      <td>92</td>\n",
       "      <td>76</td>\n",
       "      <td>...</td>\n",
       "      <td>40</td>\n",
       "      <td>52</td>\n",
       "      <td>38</td>\n",
       "      <td>115</td>\n",
       "      <td>58</td>\n",
       "      <td>59</td>\n",
       "      <td>91</td>\n",
       "      <td>62</td>\n",
       "      <td>78</td>\n",
       "      <td>56</td>\n",
       "    </tr>\n",
       "  </tbody>\n",
       "</table>\n",
       "<p>4 rows × 22 columns</p>\n",
       "</div>"
      ],
      "text/plain": [
       "         ge  cst   tnp   twp  iap   esp  arr         ms   ls    as  ...   fq  \\\n",
       "count   131  131   131   131  131   131  131        131  131   131  ...  131   \n",
       "unique    2    5     4     4    4     4    2          1    2     2  ...    6   \n",
       "top       M  OBC  Good  Good   Vg  Good    N  Unmarried    V  Paid  ...   Um   \n",
       "freq     72   57    59    65   63    54   78        131   92    76  ...   40   \n",
       "\n",
       "         mq       fo         mo     nf       sh    ss   me     tt   atd  \n",
       "count   131      131        131    131      131   131  131    131   131  \n",
       "unique    6        5          5      3        3     2    4      3     3  \n",
       "top      Um  Service  Housewife  Large  Average  Govt  Eng  Small  Good  \n",
       "freq     52       38        115     58       59    91   62     78    56  \n",
       "\n",
       "[4 rows x 22 columns]"
      ]
     },
     "metadata": {},
     "output_type": "display_data"
    },
    {
     "data": {
      "text/plain": [
       "({},\n",
       " Empty DataFrame\n",
       " Columns: []\n",
       " Index: [])"
      ]
     },
     "execution_count": 17,
     "metadata": {},
     "output_type": "execute_result"
    }
   ],
   "source": [
    "# Reejecutar la carga del archivo .arff para definir df_scipy\n",
    "from scipy.io import arff\n",
    "\n",
    "# Ruta del archivo .arff\n",
    "arff_path = Path(\"Sapfile1.arff\")\n",
    "\n",
    "# Leer el archivo .arff\n",
    "data_arff, meta = arff.loadarff(str(arff_path))\n",
    "df_scipy = pd.DataFrame(data_arff)\n",
    "\n",
    "# Decodificar columnas de texto\n",
    "for col in df_scipy.select_dtypes([object]):\n",
    "    df_scipy[col] = df_scipy[col].str.decode('utf-8')\n",
    "\n",
    "df = df_scipy.copy()\n",
    "\n",
    "# Calcular estadísticas descriptivas\n",
    "desc_stats = df.describe(include='all')\n",
    "\n",
    "# Evaluar normalidad con Shapiro-Wilk\n",
    "normality_results = {}\n",
    "for col in df.select_dtypes(include=['float64', 'int']).columns:\n",
    "    if len(df[col]) < 5000:\n",
    "        stat, p_value = stats.shapiro(df[col])\n",
    "        normality_results[col] = {\"Shapiro-Wilk stat\": stat, \"p-value\": p_value}\n",
    "\n",
    "# Calcular la matriz de correlación\n",
    "correlation_matrix = df.select_dtypes(include=['float64', 'int']).corr()\n",
    "\n",
    "# Visualización: histograma y boxplot para variables numéricas\n",
    "numeric_cols = df.select_dtypes(include=['float64', 'int']).columns\n",
    "figs = []\n",
    "for col in numeric_cols:\n",
    "    fig, axs = plt.subplots(1, 2, figsize=(10, 4))\n",
    "    sns.histplot(df[col], kde=True, ax=axs[0])\n",
    "    axs[0].set_title(f'Histograma de {col}')\n",
    "    sns.boxplot(x=df[col], ax=axs[1])\n",
    "    axs[1].set_title(f'Boxplot de {col}')\n",
    "    figs.append(fig)\n",
    "\n",
    "\n",
    "# Si quieres mostrar el DataFrame en Jupyter, usa display de IPython\n",
    "from IPython.display import display\n",
    "\n",
    "display(desc_stats)\n",
    "normality_results, correlation_matrix\n"
   ]
  }
 ],
 "metadata": {
  "kernelspec": {
   "display_name": "Python (AA venv)",
   "language": "python",
   "name": "venv-aa"
  },
  "language_info": {
   "codemirror_mode": {
    "name": "ipython",
    "version": 3
   },
   "file_extension": ".py",
   "mimetype": "text/x-python",
   "name": "python",
   "nbconvert_exporter": "python",
   "pygments_lexer": "ipython3",
<<<<<<< HEAD
   "version": "3.13.2"
=======
   "version": "3.13.3"
>>>>>>> 0a0415ef16df10dd7d31383047e6bf064cd48ae7
  }
 },
 "nbformat": 4,
 "nbformat_minor": 5
}
